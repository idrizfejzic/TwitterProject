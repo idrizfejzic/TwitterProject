{
 "cells": [
  {
   "cell_type": "code",
   "execution_count": 11,
   "metadata": {},
   "outputs": [
    {
     "name": "stdout",
     "output_type": "stream",
     "text": [
      "['#TheGameAwards', 'Xbox Series X', '#NYJvsBAL', 'Ghost of Tsushima', 'Bravely Default 2', 'Muppets', 'Stadia', 'Embiid', 'sam darnold', 'Corbyn', 'Brexit', '#Supernatural', 'Apex Legends', 'Hellblade 2', 'Green Day', 'Reggie', 'The Jets', 'Untitled Beaker Game', 'Gris', '#TemptationIsland', '#BBWomenInMusic', 'Gears Tactics', 'Viva Mexico', 'Norman Reedus', 'Kanter', 'Jump Force', 'Dark Alliance', 'Disco Elysium', 'David Stern', 'Mirage', 'Donald Mustard', 'Crowder', 'Cyberpunk 2077', 'Kemba', 'Dion Waiters', 'Lord Buckethead', 'Hollywood Brown', 'Ikumi', 'Chris Webber', '#Legacies', '#UKElection', '#ThursdayNightFootball', '#PHIvsBOS', '#ProjectRunway', '#PresidentsCup', '#GUHH', '#HawkeyeState', '#LamarJackson', '#UnlikelyChristmasBonus', '#My2019withBTS']\n",
      "{'probability': {'neg': 0.2963060007982177, 'neutral': 0.14090470912064604, 'pos': 0.7036939992017823}, 'label': 'pos'}\n",
      "Total Tweets\n"
     ]
    },
    {
     "data": {
      "image/png": "[encoded data removed]",
      "text/plain": [
       "<Figure size 432x288 with 1 Axes>"
      ]
     },
     "metadata": {
      "needs_background": "light"
     },
     "output_type": "display_data"
    }
   ],
   "source": [
    "import os\n",
    "import tweepy as tw\n",
    "import pandas as pd\n",
    "import requests\n",
    "import json\n",
    "import matplotlib.pyplot as plt\n",
    "def twitter_api():\n",
    "    consumer_key= 'XBuKrGqxjQBWp2XOcdwGZLzcg'\n",
    "    consumer_secret= 'tVdKxqrU16TJHUcEhQZnofAt6rSSuk7oCss8yjnJw6KRGUj6SU'\n",
    "    access_token= '370140893-87zTUu8DCcMXzeGJ2z7gQwwRXIJXlZuRm2POa7kv'\n",
    "    access_token_secret= '4D4H7iyols9M8XVy8nbo0K0YqKPsM5K3YJLPv9MKycNbT'\n",
    "\n",
    "    auth = tw.OAuthHandler(consumer_key, consumer_secret)\n",
    "    auth.set_access_token(access_token, access_token_secret)\n",
    "    api = tw.API(auth, wait_on_rate_limit=True)\n",
    "    return api\n",
    "    \n",
    "def get_trends(api):\n",
    "    US_WOE_ID = 23424977\n",
    "    trends1 = api.trends_place(US_WOE_ID) # from the end of your code\n",
    "    # trends1 is a list with only one element in it, which is a \n",
    "    # dict which we'll put in data.\n",
    "    data = trends1[0] \n",
    "    # grab the trends\n",
    "    trends = data['trends']\n",
    "    # grab the name from each trend\n",
    "    names = [trend['name'] for trend in trends]\n",
    "    return names\n",
    "\n",
    "api = twitter_api()\n",
    "trends = get_trends(api)\n",
    "print(trends)\n",
    "\n",
    "url = 'http://text-processing.com/api/sentiment/'\n",
    "options = { 'text' : \"hi i am a good person\"}\n",
    "response = requests.post(url, data = options)\n",
    "sentiment = response.json()\n",
    "print(sentiment)\n",
    "\n",
    "\n",
    "x=range(0,3)\n",
    "plt.stackplot(x,[1,2,3],[3,4,5],labels=['Positive','Negative'])\n",
    "plt.legend(loc='upper left')\n",
    "plt.show()\n",
    "\n"
   ]
  },
  {
   "cell_type": "code",
   "execution_count": null,
   "metadata": {},
   "outputs": [],
   "source": []
  },
  {
   "cell_type": "code",
   "execution_count": null,
   "metadata": {},
   "outputs": [],
   "source": []
  }
 ],
 "metadata": {
  "kernelspec": {
   "display_name": "Python 3",
   "language": "python",
   "name": "python3"
  },
  "language_info": {
   "codemirror_mode": {
    "name": "ipython",
    "version": 3
   },
   "file_extension": ".py",
   "mimetype": "text/x-python",
   "name": "python",
   "nbconvert_exporter": "python",
   "pygments_lexer": "ipython3",
   "version": "3.7.3"
  }
 },
 "nbformat": 4,
 "nbformat_minor": 2
}
