{
 "cells": [
  {
   "cell_type": "code",
   "execution_count": null,
   "metadata": {},
   "outputs": [],
   "source": [
    "import os\n",
    "import tweepy as tw\n",
    "import pandas as pd\n",
    "\n",
    "consumer_key= 'XBuKrGqxjQBWp2XOcdwGZLzcg'\n",
    "consumer_secret= 'tVdKxqrU16TJHUcEhQZnofAt6rSSuk7oCss8yjnJw6KRGUj6SU'\n",
    "access_token= '370140893-87zTUu8DCcMXzeGJ2z7gQwwRXIJXlZuRm2POa7kv'\n",
    "access_token_secret= '4D4H7iyols9M8XVy8nbo0K0YqKPsM5K3YJLPv9MKycNbT'\n",
    "\n",
    "auth = tw.OAuthHandler(consumer_key, consumer_secret)\n",
    "auth.set_access_token(access_token, access_token_secret)\n",
    "api = tw.API(auth, wait_on_rate_limit=True)\n",
    "\n",
    "trends1 = api.trends_place(1) # from the end of your code\n",
    "# trends1 is a list with only one element in it, which is a \n",
    "# dict which we'll put in data.\n",
    "data = trends1[0] \n",
    "# grab the trends\n",
    "trends = data['trends']\n",
    "# grab the name from each trend\n",
    "names = [trend['name'] for trend in trends]\n",
    "# put all the names together with a ' ' separating them\n",
    "trendsName = ' '.join(names)\n",
    "print(trendsName)\n",
    "\n",
    "print(\"idriz\")"
   ]
  }
 ],
 "metadata": {
  "kernelspec": {
   "display_name": "Python 3",
   "language": "python",
   "name": "python3"
  },
  "language_info": {
   "codemirror_mode": {
    "name": "ipython",
    "version": 3
   },
   "file_extension": ".py",
   "mimetype": "text/x-python",
   "name": "python",
   "nbconvert_exporter": "python",
   "pygments_lexer": "ipython3",
   "version": "3.7.3"
  }
 },
 "nbformat": 4,
 "nbformat_minor": 2
}
