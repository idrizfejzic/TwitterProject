{
 "cells": [
  {
   "cell_type": "code",
   "execution_count": 4,
   "metadata": {},
   "outputs": [
    {
     "name": "stdout",
     "output_type": "stream",
     "text": [
      "0. #GiftOfSox\n",
      "1. #WednesdayWisdom\n",
      "2. #TIMEPersonoftheYear2019\n",
      "3. #ImpeachAndConvict\n",
      "4. #RIPNickCanon\n",
      "5. Sears\n",
      "6. Piers Morgan\n",
      "7. Congratulations Greta\n",
      "8. Senate Judiciary Committee\n",
      "9. Stanton\n",
      "10. Hump Day\n",
      "Please choose from 0-10 which trend you want to analyze: 4\n",
      "(0.4818338488131862, 0.5181661511868141, 0.5443064750695076)\n"
     ]
    }
   ],
   "source": [
    "import os\n",
    "import tweepy as tw\n",
    "import pandas as pd\n",
    "import json\n",
    "import requests\n",
    "\n",
    "def sentiment(tweets):\n",
    "    url = 'http://text-processing.com/api/sentiment/'\n",
    "    pos = 0\n",
    "    neg = 0\n",
    "    neutral = 0\n",
    "    for text in tweets:\n",
    "        options = { 'text' : text}\n",
    "        response = requests.post(url, data = options)\n",
    "        sentiment = response.json()\n",
    "        neg = neg+ sentiment['probability']['neg']\n",
    "        pos = pos + sentiment['probability']['pos']\n",
    "        neutral = neutral + sentiment['probability']['neutral']\n",
    "    neg = neg/len(tweets)\n",
    "    pos = pos/len(tweets)\n",
    "    neutral = neutral/len(tweets)\n",
    "    return pos,neg,neutral\n",
    "def twitter_api():\n",
    "    consumer_key= 'XBuKrGqxjQBWp2XOcdwGZLzcg'\n",
    "    consumer_secret= 'tVdKxqrU16TJHUcEhQZnofAt6rSSuk7oCss8yjnJw6KRGUj6SU'\n",
    "    access_token= '370140893-87zTUu8DCcMXzeGJ2z7gQwwRXIJXlZuRm2POa7kv'\n",
    "    access_token_secret= '4D4H7iyols9M8XVy8nbo0K0YqKPsM5K3YJLPv9MKycNbT'\n",
    "\n",
    "    auth = tw.OAuthHandler(consumer_key, consumer_secret)\n",
    "    auth.set_access_token(access_token, access_token_secret)\n",
    "    api = tw.API(auth, wait_on_rate_limit=True)\n",
    "    return api\n",
    "    \n",
    "def get_trends(api):\n",
    "    US_WOE_ID = 23424977\n",
    "    trends1 = api.trends_place(US_WOE_ID) # from the end of your code\n",
    "    # trends1 is a list with only one element in it, which is a \n",
    "    # dict which we'll put in data.\n",
    "    data = trends1[0] \n",
    "    # grab the trends\n",
    "    trends = data['trends']\n",
    "    # grab the name from each trend\n",
    "    names = [trend['name'] for trend in trends]\n",
    "    return names\n",
    "\n",
    "def get_tweets(trends,api):\n",
    "    choice = 100\n",
    "    tweets = []\n",
    "    for x in range(0,11):\n",
    "        print(\"%d. %s\"%(x,trends[x]))\n",
    "    while(choice>10 or choice<0):\n",
    "        choice = int(input(\"Please choose from 0-10 which trend you want to analyze: \"))\n",
    "    search = tw.Cursor(api.search, q=trends[choice],tweet_mode='extended').items(500)\n",
    "    for item in search: \n",
    "        tweets.append(item.full_text)\n",
    "    return tweets\n",
    "\n",
    "api = twitter_api()\n",
    "trends = get_trends(api)\n",
    "tweets = get_tweets(trends,api)\n",
    "\n",
    "pos,neg,neutral = sentiment(tweets)\n",
    "print((pos,neg,neutral))"
   ]
  },
  {
   "cell_type": "code",
   "execution_count": null,
   "metadata": {},
   "outputs": [],
   "source": []
  },
  {
   "cell_type": "code",
   "execution_count": null,
   "metadata": {},
   "outputs": [],
   "source": []
  }
 ],
 "metadata": {
  "kernelspec": {
   "display_name": "Python 3",
   "language": "python",
   "name": "python3"
  },
  "language_info": {
   "codemirror_mode": {
    "name": "ipython",
    "version": 3
   },
   "file_extension": ".py",
   "mimetype": "text/x-python",
   "name": "python",
   "nbconvert_exporter": "python",
   "pygments_lexer": "ipython3",
   "version": "3.7.3"
  }
 },
 "nbformat": 4,
 "nbformat_minor": 2
}
